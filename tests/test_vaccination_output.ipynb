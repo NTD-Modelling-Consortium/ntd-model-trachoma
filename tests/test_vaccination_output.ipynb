{
 "cells": [
  {
   "attachments": {},
   "cell_type": "markdown",
   "metadata": {},
   "source": [
    "# Test vaccination component of trachoma model\n",
    "\n",
    "We explore different vaccination scenarios to check the model brhaves rationally when vaccination is implemented\n",
    "\n",
    "## Check vaccine parameters\n",
    "\n",
    "We load the appropriate packages and check the vaccination parameters for the given scenario"
   ]
  },
  {
   "cell_type": "code",
   "execution_count": 16,
   "metadata": {},
   "outputs": [
    {
     "data": {
      "text/html": [
       "<div>\n",
       "<style scoped>\n",
       "    .dataframe tbody tr th:only-of-type {\n",
       "        vertical-align: middle;\n",
       "    }\n",
       "\n",
       "    .dataframe tbody tr th {\n",
       "        vertical-align: top;\n",
       "    }\n",
       "\n",
       "    .dataframe thead th {\n",
       "        text-align: right;\n",
       "    }\n",
       "</style>\n",
       "<table border=\"1\" class=\"dataframe\">\n",
       "  <thead>\n",
       "    <tr style=\"text-align: right;\">\n",
       "      <th></th>\n",
       "      <th>vaccination_date</th>\n",
       "      <th>coverage</th>\n",
       "      <th>prob_block_transmission</th>\n",
       "      <th>reduce_bacterial_load</th>\n",
       "      <th>reduce_duration</th>\n",
       "      <th>waning_length</th>\n",
       "    </tr>\n",
       "  </thead>\n",
       "  <tbody>\n",
       "    <tr>\n",
       "      <th>0</th>\n",
       "      <td>2015-01-01</td>\n",
       "      <td>0.8</td>\n",
       "      <td>0.8</td>\n",
       "      <td>0.5</td>\n",
       "      <td>0.5</td>\n",
       "      <td>260</td>\n",
       "    </tr>\n",
       "  </tbody>\n",
       "</table>\n",
       "</div>"
      ],
      "text/plain": [
       "  vaccination_date  coverage  prob_block_transmission  reduce_bacterial_load  \\\n",
       "0       2015-01-01       0.8                      0.8                    0.5   \n",
       "\n",
       "   reduce_duration  waning_length  \n",
       "0              0.5            260  "
      ]
     },
     "execution_count": 16,
     "metadata": {},
     "output_type": "execute_result"
    }
   ],
   "source": [
    "from trachoma import Trachoma_Simulation\n",
    "import matplotlib.pyplot as plt\n",
    "import pandas as pd\n",
    "import numpy as np\n",
    "\n",
    "vaccine_parameters = pd.read_csv('data/vaccination_input.csv')\n",
    "\n",
    "vaccine_parameters"
   ]
  },
  {
   "attachments": {},
   "cell_type": "markdown",
   "metadata": {},
   "source": [
    "Change properties of the vaccine and re-save as a new scenario"
   ]
  },
  {
   "cell_type": "code",
   "execution_count": 17,
   "metadata": {},
   "outputs": [],
   "source": [
    "vaccine_parameters[\"coverage\"] = [0.0]\n",
    "vaccine_parameters[\"prob_block_transmission\"] = [1.0]\n",
    "\n",
    "vaccine_parameters.to_csv('data/vaccination_input_scenario_one.csv')"
   ]
  },
  {
   "cell_type": "code",
   "execution_count": 19,
   "metadata": {},
   "outputs": [
    {
     "name": "stdout",
     "output_type": "stream",
     "text": [
      "-> Timer 71ce1404-e614-433e-ab48-1429e83aa253 running 'Trachoma_Simulation', starting at 2023-02-28 04:31:18.124341\n",
      "Starting 0x Trachoma runs on 16 core(s), v20210329a\n",
      "Finished 0x Trachoma runs on 16 core(s), v20210329a\n",
      "Writing PrevFile to path ../results/output_prev_test_vacc.csv ...\n",
      "Writing InfectFile to path ../infection_job.csv ...\n",
      "Dumping pickle file to ../results/out.p ...\n",
      "Running time: 2 seconds.\n",
      "=> Timer 71ce1404-e614-433e-ab48-1429e83aa253 finished 'Trachoma_Simulation' in 1.7709 secs\n"
     ]
    }
   ],
   "source": [
    "\n",
    "\n",
    "\n",
    "Trachoma_Simulation(\"data/beta_values.csv\",\n",
    "                    \"data/mda_input_2008_2017.csv\",\n",
    "                    '../results/output_prev_test_vacc.csv',\n",
    "                    \"../infection_job.csv\",\n",
    "                    SaveOutput = True,\n",
    "                    OutSimFilePath = \"../results/out.p\",\n",
    "                    VaccFilePath= 'data/vaccination_input_scenario_one.csv',\n",
    "                    InSimFilePath = None,\n",
    "                    logger = None)"
   ]
  },
  {
   "cell_type": "code",
   "execution_count": 20,
   "metadata": {},
   "outputs": [],
   "source": [
    "out1 = pd.read_csv('../results/output_prev_test_vacc.csv')"
   ]
  },
  {
   "cell_type": "code",
   "execution_count": 21,
   "metadata": {},
   "outputs": [
    {
     "data": {
      "text/plain": [
       "<Axes: title={'center': 'Scenario 1'}>"
      ]
     },
     "execution_count": 21,
     "metadata": {},
     "output_type": "execute_result"
    },
    {
     "data": {
      "image/png": "[encoded data removed]",
      "text/plain": [
       "<Figure size 640x480 with 1 Axes>"
      ]
     },
     "metadata": {},
     "output_type": "display_data"
    }
   ],
   "source": [
    "summary1 = pd.DataFrame({'Median': out1.iloc[:, 2:].median(),\n",
    "                         '25th Percentile': out1.iloc[:, 2:].quantile(0.25),\n",
    "                         '75th Percentile': out1.iloc[:, 2:].quantile(0.75)})\n",
    "summary1.plot(title='Scenario 1')"
   ]
  }
 ],
 "metadata": {
  "kernelspec": {
   "display_name": "Python 3",
   "language": "python",
   "name": "python3"
  },
  "language_info": {
   "codemirror_mode": {
    "name": "ipython",
    "version": 3
   },
   "file_extension": ".py",
   "mimetype": "text/x-python",
   "name": "python",
   "nbconvert_exporter": "python",
   "pygments_lexer": "ipython3",
   "version": "3.11.2"
  },
  "orig_nbformat": 4,
  "vscode": {
   "interpreter": {
    "hash": "949777d72b0d2535278d3dc13498b2535136f6dfe0678499012e853ee9abcab1"
   }
  }
 },
 "nbformat": 4,
 "nbformat_minor": 2
}
